{
 "cells": [
  {
   "cell_type": "markdown",
   "metadata": {},
   "source": [
    "# All detailed results\n",
    "\n",
    "This notebooks holds all detailled results that are mentioned in the text. Re-execute to update values."
   ]
  },
  {
   "cell_type": "markdown",
   "metadata": {},
   "source": [
    "## Code\n",
    "\n",
    "### Absolute thresholds"
   ]
  },
  {
   "cell_type": "code",
   "execution_count": 1,
   "metadata": {},
   "outputs": [],
   "source": [
    "import functools\n",
    "\n",
    "import numpy as np\n",
    "import xarray as xr\n",
    "\n",
    "TOTAL_EUROPEAN_LAND_MASS_KM2 = 4920000\n",
    "THRESHOLDS = [0.005, 0.01, 0.015, 0.02, 0.03]\n",
    "TECHS = [\"roof\", \"util\", \"offshore\"]\n",
    "ALL_TECHS = TECHS + [\"wind\"]\n",
    "\n",
    "\n",
    "def calculate_data(path_to_xy_data):\n",
    "    xy = xr.open_dataset(path_to_xy_data)\n",
    "    data = (\n",
    "        xr\n",
    "        .ones_like(xy.cost.sum(\"scenario\"))\n",
    "        .expand_dims(tech=TECHS, threshold=THRESHOLDS)\n",
    "    ) * np.nan\n",
    "\n",
    "    cost_optimal_data = xy.isel(scenario=xy.cost.argmin(\"scenario\"))\n",
    "\n",
    "    for tech in TECHS:\n",
    "        conditions = [\n",
    "            xy[other_tech] <= cost_optimal_data[other_tech]\n",
    "            for other_tech in ALL_TECHS\n",
    "            if other_tech != tech\n",
    "        ]\n",
    "        tech_mask = functools.reduce(lambda x, y: x & y, conditions)\n",
    "        for threshold in THRESHOLDS:\n",
    "            absolute_threshold = threshold * TOTAL_EUROPEAN_LAND_MASS_KM2\n",
    "            mask = tech_mask & (xy.land_use <= absolute_threshold)\n",
    "            cost = xy.where(mask).cost.min(\"scenario\")\n",
    "            data.loc[{\"tech\": tech, \"threshold\": threshold}] = (cost - cost_optimal_data.cost) / cost_optimal_data.cost\n",
    "    missing_values = data.isnull()\n",
    "    assert not missing_values.sel(tech=\"roof\").any()\n",
    "    assert not missing_values.sel(tech=\"util\").any()\n",
    "    assert missing_values.sel(tech=\"offshore\", threshold=0.01).sum() < 20 # in rare cases, 1% can not be done\n",
    "    assert missing_values.sel(tech=\"offshore\", threshold=0.005).sum() < 1000 # in 1% of cases, 0.05% can not be done\n",
    "    return data"
   ]
  },
  {
   "cell_type": "markdown",
   "metadata": {},
   "source": [
    "### Cost-effective phase-ins"
   ]
  },
  {
   "cell_type": "code",
   "execution_count": 2,
   "metadata": {},
   "outputs": [],
   "source": [
    "from dataclasses import dataclass\n",
    "import pandas as pd\n",
    "import xarray as xr\n",
    "import seaborn as sns\n",
    "import matplotlib.pyplot as plt\n",
    "\n",
    "EPSILON = 0.00001\n",
    "GREY = \"#7F7F7F\"\n",
    "BLUE = \"#4F6DB8\"\n",
    "BRIGHT_COLOR = sns.light_palette(BLUE, 3)[0]\n",
    "DARK_COLOR = BLUE\n",
    "PANEL_FONT_SIZE = 10\n",
    "PANEL_FONT_WEIGHT = \"bold\"\n",
    "\n",
    "idx = pd.IndexSlice\n",
    "\n",
    "\n",
    "@dataclass\n",
    "class PlotData:\n",
    "    name: str\n",
    "    data: pd.DataFrame\n",
    "    optimal_path: pd.Series\n",
    "    average_slope: float\n",
    "    ylabel: str = \"Cost relative to\\n cost minimal case\"\n",
    "    xlabel: str = \"Land requirements relative\\nto cost minimal case\"\n",
    "\n",
    "\n",
    "def read_phase_ins(path_to_data):\n",
    "    data = (\n",
    "        xr\n",
    "        .open_dataset(path_to_data)\n",
    "        .mean(\"sample_id\")\n",
    "        .to_dataframe()\n",
    "        .set_index([\"util\", \"wind\", \"roof\", \"offshore\"])\n",
    "    )\n",
    "    rel_data = data / data.loc[data.cost.idxmin()]\n",
    "\n",
    "    return [\n",
    "        PlotData(\n",
    "            name=\"a - Offshore wind\",\n",
    "            data=rel_data,\n",
    "            optimal_path=optimal_path_series(data, \"offshore\"),\n",
    "            average_slope=average_slope(data, optimal_path_series(data, \"offshore\"))\n",
    "        ),\n",
    "        PlotData(\n",
    "            name=\"b - Utility-scale PV\",\n",
    "            data=rel_data,\n",
    "            optimal_path=optimal_path_series(data, \"util\"),\n",
    "            average_slope=average_slope(data, optimal_path_series(data, \"util\"))\n",
    "        ),\n",
    "        PlotData(\n",
    "            name=\"c - Rooftop PV\",\n",
    "            data=rel_data,\n",
    "            optimal_path=optimal_path_series(data, \"roof\"),\n",
    "            average_slope=average_slope(data, optimal_path_series(data, \"roof\"))\n",
    "        )\n",
    "    ]\n",
    "\n",
    "\n",
    "def slope(index1, index2, data):\n",
    "    cost_delta = data.loc[index1, \"cost\"] - data.loc[index2, \"cost\"]\n",
    "    land_use_delta = (data.loc[index1, \"land_use\"] - data.loc[index2, \"land_use\"]) * 1e6 # to m2\n",
    "    if abs(land_use_delta) > EPSILON:\n",
    "        return cost_delta / land_use_delta\n",
    "    else:\n",
    "        return None\n",
    "\n",
    "\n",
    "def optimal_path(data, tech):\n",
    "    assert tech in [\"util\", \"wind\", \"roof\", \"offshore\"]\n",
    "    current_index = data[\"cost\"].idxmin() # start at cost minimum\n",
    "    yield current_index, 0\n",
    "    while data.loc[[current_index]].index.get_level_values(tech)[0] < 100:\n",
    "        if tech == \"util\":\n",
    "            index = idx[current_index[0] + 10, :current_index[1], :current_index[2], :current_index[3]]\n",
    "        elif tech == \"wind\":\n",
    "            index = idx[:current_index[0], current_index[1] + 10, :current_index[2], :current_index[3]]\n",
    "        elif tech == \"roof\":\n",
    "            index = idx[:current_index[0], :current_index[1], :current_index[2] + 10, :current_index[3]]\n",
    "        elif tech == \"offshore\":\n",
    "            index = idx[:current_index[0], :current_index[1], :current_index[2], current_index[3] + 10]\n",
    "        slopes = (\n",
    "            data\n",
    "            .sort_index(level=['util', 'wind', 'roof', 'offshore'])\n",
    "            .loc[index, ]\n",
    "            .apply(lambda row: slope(current_index, row.name, data), axis=1)\n",
    "        )\n",
    "        slopes = slopes[slopes < 0] # don't follow slopes that lead to worse points\n",
    "        if len(slopes.index) == 0:\n",
    "            return\n",
    "        else:\n",
    "            optimal_index = slopes.abs().idxmin()\n",
    "            yield optimal_index, slopes.loc[optimal_index]\n",
    "            current_index = optimal_index\n",
    "\n",
    "\n",
    "def optimal_path_series(data, tech):\n",
    "    slopes = pd.Series({index: slope for index, slope in optimal_path(data, tech)})\n",
    "    slopes.index = slopes.index.set_names([\"util\", \"wind\", \"roof\", \"offshore\"])\n",
    "    return slopes\n",
    "\n",
    "\n",
    "def average_slope(data, optimal_path):\n",
    "    cost_optimal_index = data[\"cost\"].idxmin()\n",
    "    if len(optimal_path.index) > 0:\n",
    "        return slope(cost_optimal_index, optimal_path.index[-1], data)\n",
    "    else:\n",
    "        return None"
   ]
  },
  {
   "cell_type": "markdown",
   "metadata": {},
   "source": [
    "## Expected results"
   ]
  },
  {
   "cell_type": "code",
   "execution_count": 3,
   "metadata": {},
   "outputs": [],
   "source": [
    "xy = xr.open_dataset(\"../build/euler/output/national/land-use/xy.nc\")"
   ]
  },
  {
   "cell_type": "code",
   "execution_count": 4,
   "metadata": {},
   "outputs": [],
   "source": [
    "expected = xy.mean(\"sample_id\")"
   ]
  },
  {
   "cell_type": "code",
   "execution_count": 5,
   "metadata": {},
   "outputs": [],
   "source": [
    "cost_optimal_expected_scenario = expected.to_dataframe().cost.idxmin()"
   ]
  },
  {
   "cell_type": "code",
   "execution_count": 6,
   "metadata": {},
   "outputs": [
    {
     "name": "stdout",
     "output_type": "stream",
     "text": [
      "Expected land use of cost-optimal system design using expected cost:\n",
      "96698 km2 (2.0%)\n"
     ]
    }
   ],
   "source": [
    "total = expected.sel(scenario=cost_optimal_expected_scenario).land_use.item()\n",
    "relative = total / TOTAL_EUROPEAN_LAND_MASS_KM2 * 100\n",
    "print(f\"Expected land use of cost-optimal system design using expected cost:\")\n",
    "print(f\"{total:.0f} km2 ({relative:.1f}%)\")"
   ]
  },
  {
   "cell_type": "markdown",
   "metadata": {},
   "source": [
    "## Wind PV systems"
   ]
  },
  {
   "cell_type": "code",
   "execution_count": 7,
   "metadata": {},
   "outputs": [],
   "source": [
    "df = xy.where((xy.roof == 0) & (xy.offshore == 0) & (xy.wind == 50), drop=True).to_dataframe()\n",
    "df.land_use = df.land_use / TOTAL_EUROPEAN_LAND_MASS_KM2 * 100"
   ]
  },
  {
   "cell_type": "code",
   "execution_count": 8,
   "metadata": {},
   "outputs": [
    {
     "data": {
      "text/plain": [
       "count    99999.000000\n",
       "mean         1.965415\n",
       "std          0.506594\n",
       "min          1.069879\n",
       "25%          1.639530\n",
       "50%          1.862214\n",
       "75%          2.164201\n",
       "max         12.466375\n",
       "Name: land_use, dtype: float64"
      ]
     },
     "execution_count": 8,
     "metadata": {},
     "output_type": "execute_result"
    }
   ],
   "source": [
    "df.land_use.describe()"
   ]
  },
  {
   "cell_type": "markdown",
   "metadata": {},
   "source": [
    "## Land limits"
   ]
  },
  {
   "cell_type": "code",
   "execution_count": 9,
   "metadata": {},
   "outputs": [],
   "source": [
    "penalties = calculate_data(\"../build/euler/output/national/land-use/xy.nc\")"
   ]
  },
  {
   "cell_type": "code",
   "execution_count": 10,
   "metadata": {},
   "outputs": [
    {
     "name": "stdout",
     "output_type": "stream",
     "text": [
      "Limit of 0.5% using any tech requires penalities in 79% of the time.\n",
      "Limit of 1.0% using any tech requires penalities in 76% of the time.\n",
      "Limit of 1.5% using any tech requires penalities in 63% of the time.\n",
      "Limit of 2.0% using any tech requires penalities in 33% of the time.\n",
      "Limit of 3.0% using any tech requires penalities in 5% of the time.\n"
     ]
    }
   ],
   "source": [
    "for threshold in THRESHOLDS:\n",
    "    filtered_penalities = penalties.sel(threshold=threshold, tech=\"util\")\n",
    "    share_penalty = ((filtered_penalities > 0).sum() / filtered_penalities.count()).item() * 100\n",
    "    print(f\"Limit of {threshold * 100:.1f}% using any tech requires penalities in {share_penalty:.0f}% of the time.\")"
   ]
  },
  {
   "cell_type": "code",
   "execution_count": 11,
   "metadata": {},
   "outputs": [
    {
     "name": "stdout",
     "output_type": "stream",
     "text": [
      "Limit of 0.5% using roof requires an expected penality of 33%.\n",
      "Limit of 1.0% using roof requires an expected penality of 19%.\n",
      "Limit of 1.5% using roof requires an expected penality of 10%.\n",
      "Limit of 2.0% using roof requires an expected penality of 4%.\n",
      "Limit of 3.0% using roof requires an expected penality of 0%.\n",
      "\n",
      "Limit of 0.5% using util requires an expected penality of 21%.\n",
      "Limit of 1.0% using util requires an expected penality of 12%.\n",
      "Limit of 1.5% using util requires an expected penality of 5%.\n",
      "Limit of 2.0% using util requires an expected penality of 1%.\n",
      "Limit of 3.0% using util requires an expected penality of 0%.\n",
      "\n",
      "Limit of 0.5% using offshore requires an expected penality of 13%.\n",
      "Limit of 1.0% using offshore requires an expected penality of 8%.\n",
      "Limit of 1.5% using offshore requires an expected penality of 5%.\n",
      "Limit of 2.0% using offshore requires an expected penality of 2%.\n",
      "Limit of 3.0% using offshore requires an expected penality of 0%.\n",
      "\n"
     ]
    }
   ],
   "source": [
    "for tech in TECHS:\n",
    "    for threshold in THRESHOLDS:\n",
    "        filtered_penalities = penalties.sel(threshold=threshold, tech=tech)\n",
    "        penalty = filtered_penalities.mean().item() * 100\n",
    "        print(f\"Limit of {threshold * 100:.1f}% using {tech} requires an expected penality of {penalty:.0f}%.\")\n",
    "    print()"
   ]
  },
  {
   "cell_type": "markdown",
   "metadata": {},
   "source": [
    "## Cost-effective Phase-ins"
   ]
  },
  {
   "cell_type": "code",
   "execution_count": 12,
   "metadata": {},
   "outputs": [],
   "source": [
    "data = read_phase_ins(\"../build/euler/output/national/land-use/xy.nc\")"
   ]
  },
  {
   "cell_type": "markdown",
   "metadata": {},
   "source": [
    "### Offshore"
   ]
  },
  {
   "cell_type": "code",
   "execution_count": 13,
   "metadata": {},
   "outputs": [
    {
     "data": {
      "text/plain": [
       "util  wind  roof  offshore\n",
       "50    50    0     0            0.000000\n",
       "      40    0     10          -0.198597\n",
       "      30    0     20          -0.231460\n",
       "      20    0     30          -0.264283\n",
       "      10    0     40          -0.291993\n",
       "      0     0     50          -0.314354\n",
       "40    0     0     60          -5.993258\n",
       "30    0     0     70         -28.388357\n",
       "dtype: float64"
      ]
     },
     "execution_count": 13,
     "metadata": {},
     "output_type": "execute_result"
    }
   ],
   "source": [
    "data[0].optimal_path"
   ]
  },
  {
   "cell_type": "code",
   "execution_count": 14,
   "metadata": {},
   "outputs": [
    {
     "data": {
      "text/plain": [
       "land_use    0.149675\n",
       "cost        1.096180\n",
       "Name: (50, 0, 0, 50), dtype: float64"
      ]
     },
     "execution_count": 14,
     "metadata": {},
     "output_type": "execute_result"
    }
   ],
   "source": [
    "data[0].data.loc[(50, 0, 0, 50)]"
   ]
  },
  {
   "cell_type": "markdown",
   "metadata": {},
   "source": [
    "### Utility-scale PV"
   ]
  },
  {
   "cell_type": "code",
   "execution_count": 15,
   "metadata": {},
   "outputs": [
    {
     "data": {
      "text/plain": [
       "util  wind  roof  offshore\n",
       "50    50    0     0           0.000000\n",
       "60    40    0     0          -0.153238\n",
       "70    30    0     0          -0.402176\n",
       "80    20    0     0          -0.559838\n",
       "90    10    0     0          -0.605383\n",
       "100   0     0     0          -1.113307\n",
       "dtype: float64"
      ]
     },
     "execution_count": 15,
     "metadata": {},
     "output_type": "execute_result"
    }
   ],
   "source": [
    "data[1].optimal_path"
   ]
  },
  {
   "cell_type": "code",
   "execution_count": 16,
   "metadata": {},
   "outputs": [
    {
     "data": {
      "text/plain": [
       "land_use    0.193641\n",
       "cost        1.225842\n",
       "Name: (100, 0, 0, 0), dtype: float64"
      ]
     },
     "execution_count": 16,
     "metadata": {},
     "output_type": "execute_result"
    }
   ],
   "source": [
    "data[0].data.loc[(100, 0, 0, 0)]"
   ]
  },
  {
   "cell_type": "code",
   "execution_count": null,
   "metadata": {},
   "outputs": [],
   "source": []
  }
 ],
 "metadata": {
  "kernelspec": {
   "display_name": "Python 3",
   "language": "python",
   "name": "python3"
  },
  "language_info": {
   "codemirror_mode": {
    "name": "ipython",
    "version": 3
   },
   "file_extension": ".py",
   "mimetype": "text/x-python",
   "name": "python",
   "nbconvert_exporter": "python",
   "pygments_lexer": "ipython3",
   "version": "3.6.7"
  }
 },
 "nbformat": 4,
 "nbformat_minor": 2
}
