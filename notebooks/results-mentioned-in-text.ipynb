{
 "cells": [
  {
   "cell_type": "markdown",
   "metadata": {},
   "source": [
    "# All detailed results\n",
    "\n",
    "This notebooks holds all detailled results that are mentioned in the text. Re-execute to update values."
   ]
  },
  {
   "cell_type": "code",
   "execution_count": 1,
   "metadata": {},
   "outputs": [],
   "source": [
    "import functools\n",
    "\n",
    "import numpy as np\n",
    "import xarray as xr\n",
    "\n",
    "TOTAL_EUROPEAN_LAND_MASS_KM2 = 4920000\n",
    "THRESHOLDS = [0.005, 0.01, 0.015, 0.02, 0.03]\n",
    "TECHS = [\"roof\", \"util\", \"offshore\"]\n",
    "ALL_TECHS = TECHS + [\"wind\"]\n",
    "\n",
    "\n",
    "def calculate_data(path_to_xy_data):\n",
    "    xy = xr.open_dataset(path_to_xy_data)\n",
    "    data = (\n",
    "        xr\n",
    "        .ones_like(xy.cost.sum(\"scenario\"))\n",
    "        .expand_dims(tech=TECHS, threshold=THRESHOLDS)\n",
    "    ) * np.nan\n",
    "\n",
    "    cost_optimal_data = xy.isel(scenario=xy.cost.argmin(\"scenario\"))\n",
    "\n",
    "    for tech in TECHS:\n",
    "        conditions = [\n",
    "            xy[other_tech] <= cost_optimal_data[other_tech]\n",
    "            for other_tech in ALL_TECHS\n",
    "            if other_tech != tech\n",
    "        ]\n",
    "        tech_mask = functools.reduce(lambda x, y: x & y, conditions)\n",
    "        for threshold in THRESHOLDS:\n",
    "            absolute_threshold = threshold * TOTAL_EUROPEAN_LAND_MASS_KM2\n",
    "            mask = tech_mask & (xy.land_use <= absolute_threshold)\n",
    "            cost = xy.where(mask).cost.min(\"scenario\")\n",
    "            data.loc[{\"tech\": tech, \"threshold\": threshold}] = (cost - cost_optimal_data.cost) / cost_optimal_data.cost\n",
    "    missing_values = data.isnull()\n",
    "    assert not missing_values.sel(tech=\"roof\").any()\n",
    "    assert not missing_values.sel(tech=\"util\").any()\n",
    "    assert missing_values.sel(tech=\"offshore\", threshold=0.01).sum() < 20 # in rare cases, 1% can not be done\n",
    "    assert missing_values.sel(tech=\"offshore\", threshold=0.005).sum() < 1000 # in 1% of cases, 0.05% can not be done\n",
    "    return data"
   ]
  },
  {
   "cell_type": "markdown",
   "metadata": {},
   "source": [
    "## Expected results"
   ]
  },
  {
   "cell_type": "code",
   "execution_count": 2,
   "metadata": {},
   "outputs": [],
   "source": [
    "xy = xr.open_dataset(\"../build/euler/output/national/land-use/xy.nc\")"
   ]
  },
  {
   "cell_type": "code",
   "execution_count": 3,
   "metadata": {},
   "outputs": [],
   "source": [
    "expected = xy.mean(\"sample_id\")"
   ]
  },
  {
   "cell_type": "code",
   "execution_count": 4,
   "metadata": {},
   "outputs": [],
   "source": [
    "cost_optimal_expected_scenario = expected.to_dataframe().cost.idxmin()"
   ]
  },
  {
   "cell_type": "code",
   "execution_count": 5,
   "metadata": {},
   "outputs": [
    {
     "name": "stdout",
     "output_type": "stream",
     "text": [
      "Expected land use of cost-optimal system design using expected cost:\n",
      "96698 km2 (2.0%)\n"
     ]
    }
   ],
   "source": [
    "total = expected.sel(scenario=cost_optimal_expected_scenario).land_use.item()\n",
    "relative = total / TOTAL_EUROPEAN_LAND_MASS_KM2 * 100\n",
    "print(f\"Expected land use of cost-optimal system design using expected cost:\")\n",
    "print(f\"{total:.0f} km2 ({relative:.1f}%)\")"
   ]
  },
  {
   "cell_type": "markdown",
   "metadata": {},
   "source": [
    "## Land limits"
   ]
  },
  {
   "cell_type": "code",
   "execution_count": 6,
   "metadata": {},
   "outputs": [],
   "source": [
    "penalties = calculate_data(\"../build/euler/output/national/land-use/xy.nc\")"
   ]
  },
  {
   "cell_type": "code",
   "execution_count": 7,
   "metadata": {},
   "outputs": [
    {
     "name": "stdout",
     "output_type": "stream",
     "text": [
      "Limit of 0.5% using any tech requires penalities in 79% of the time.\n",
      "Limit of 1.0% using any tech requires penalities in 76% of the time.\n",
      "Limit of 1.5% using any tech requires penalities in 63% of the time.\n",
      "Limit of 2.0% using any tech requires penalities in 33% of the time.\n",
      "Limit of 3.0% using any tech requires penalities in 5% of the time.\n"
     ]
    }
   ],
   "source": [
    "for threshold in THRESHOLDS:\n",
    "    filtered_penalities = penalties.sel(threshold=threshold, tech=\"util\")\n",
    "    share_penalty = ((filtered_penalities > 0).sum() / filtered_penalities.count()).item() * 100\n",
    "    print(f\"Limit of {threshold * 100:.1f}% using any tech requires penalities in {share_penalty:.0f}% of the time.\")"
   ]
  },
  {
   "cell_type": "code",
   "execution_count": 10,
   "metadata": {},
   "outputs": [
    {
     "name": "stdout",
     "output_type": "stream",
     "text": [
      "Limit of 0.5% using roof requires an expected penality of 33%.\n",
      "Limit of 1.0% using roof requires an expected penality of 19%.\n",
      "Limit of 1.5% using roof requires an expected penality of 10%.\n",
      "Limit of 2.0% using roof requires an expected penality of 4%.\n",
      "Limit of 3.0% using roof requires an expected penality of 0%.\n",
      "\n",
      "Limit of 0.5% using util requires an expected penality of 21%.\n",
      "Limit of 1.0% using util requires an expected penality of 12%.\n",
      "Limit of 1.5% using util requires an expected penality of 5%.\n",
      "Limit of 2.0% using util requires an expected penality of 1%.\n",
      "Limit of 3.0% using util requires an expected penality of 0%.\n",
      "\n",
      "Limit of 0.5% using offshore requires an expected penality of 13%.\n",
      "Limit of 1.0% using offshore requires an expected penality of 8%.\n",
      "Limit of 1.5% using offshore requires an expected penality of 5%.\n",
      "Limit of 2.0% using offshore requires an expected penality of 2%.\n",
      "Limit of 3.0% using offshore requires an expected penality of 0%.\n",
      "\n"
     ]
    }
   ],
   "source": [
    "for tech in TECHS:\n",
    "    for threshold in THRESHOLDS:\n",
    "        filtered_penalities = penalties.sel(threshold=threshold, tech=tech)\n",
    "        penalty = filtered_penalities.mean().item() * 100\n",
    "        print(f\"Limit of {threshold * 100:.1f}% using {tech} requires an expected penality of {penalty:.0f}%.\")\n",
    "    print()"
   ]
  },
  {
   "cell_type": "code",
   "execution_count": null,
   "metadata": {},
   "outputs": [],
   "source": []
  }
 ],
 "metadata": {
  "kernelspec": {
   "display_name": "Python 3",
   "language": "python",
   "name": "python3"
  },
  "language_info": {
   "codemirror_mode": {
    "name": "ipython",
    "version": 3
   },
   "file_extension": ".py",
   "mimetype": "text/x-python",
   "name": "python",
   "nbconvert_exporter": "python",
   "pygments_lexer": "ipython3",
   "version": "3.6.7"
  }
 },
 "nbformat": 4,
 "nbformat_minor": 2
}
