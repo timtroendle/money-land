{
 "cells": [
  {
   "cell_type": "markdown",
   "metadata": {},
   "source": [
    "# All detailed results\n",
    "\n",
    "This notebooks holds all detailled results that are mentioned in the text. Re-execute to update values."
   ]
  },
  {
   "cell_type": "markdown",
   "metadata": {},
   "source": [
    "## Code\n",
    "\n",
    "### Absolute thresholds"
   ]
  },
  {
   "cell_type": "code",
   "execution_count": 1,
   "metadata": {},
   "outputs": [],
   "source": [
    "import functools\n",
    "\n",
    "import numpy as np\n",
    "import xarray as xr\n",
    "\n",
    "TOTAL_EUROPEAN_LAND_MASS_KM2 = 4920000\n",
    "THRESHOLDS = [0.005, 0.01, 0.015, 0.02, 0.03]\n",
    "TECHS = [\"roof\", \"util\", \"offshore\"]\n",
    "ALL_TECHS = TECHS + [\"wind\"]\n",
    "\n",
    "\n",
    "def calculate_data(path_to_xy_data):\n",
    "    xy = xr.open_dataset(path_to_xy_data)\n",
    "    data = (\n",
    "        xr\n",
    "        .ones_like(xy.cost.sum(\"scenario\"))\n",
    "        .expand_dims(tech=TECHS, threshold=THRESHOLDS)\n",
    "    ) * np.nan\n",
    "\n",
    "    cost_optimal_data = xy.isel(scenario=xy.cost.argmin(\"scenario\"))\n",
    "\n",
    "    for tech in TECHS:\n",
    "        conditions = [\n",
    "            xy[other_tech] <= cost_optimal_data[other_tech]\n",
    "            for other_tech in ALL_TECHS\n",
    "            if other_tech != tech\n",
    "        ]\n",
    "        tech_mask = functools.reduce(lambda x, y: x & y, conditions)\n",
    "        for threshold in THRESHOLDS:\n",
    "            absolute_threshold = threshold * TOTAL_EUROPEAN_LAND_MASS_KM2\n",
    "            mask = tech_mask & (xy.land_use <= absolute_threshold)\n",
    "            cost = xy.where(mask).cost.min(\"scenario\")\n",
    "            data.loc[{\"tech\": tech, \"threshold\": threshold}] = (cost - cost_optimal_data.cost) / cost_optimal_data.cost\n",
    "    missing_values = data.isnull()\n",
    "    assert not missing_values.sel(tech=\"roof\").any()\n",
    "    assert not missing_values.sel(tech=\"util\").any()\n",
    "    assert missing_values.sel(tech=\"offshore\", threshold=0.01).sum() < 20 # in rare cases, 1% can not be done\n",
    "    assert missing_values.sel(tech=\"offshore\", threshold=0.005).sum() < 1000 # in 1% of cases, 0.05% can not be done\n",
    "    return data"
   ]
  },
  {
   "cell_type": "markdown",
   "metadata": {},
   "source": [
    "### Cost-effective phase-ins"
   ]
  },
  {
   "cell_type": "code",
   "execution_count": 2,
   "metadata": {},
   "outputs": [],
   "source": [
    "from dataclasses import dataclass\n",
    "import pandas as pd\n",
    "import xarray as xr\n",
    "import seaborn as sns\n",
    "import matplotlib.pyplot as plt\n",
    "\n",
    "EPSILON = 0.00001\n",
    "GREY = \"#7F7F7F\"\n",
    "BLUE = \"#4F6DB8\"\n",
    "BRIGHT_COLOR = sns.light_palette(BLUE, 3)[0]\n",
    "DARK_COLOR = BLUE\n",
    "PANEL_FONT_SIZE = 10\n",
    "PANEL_FONT_WEIGHT = \"bold\"\n",
    "\n",
    "idx = pd.IndexSlice\n",
    "\n",
    "\n",
    "@dataclass\n",
    "class PlotData:\n",
    "    name: str\n",
    "    data: pd.DataFrame\n",
    "    optimal_path: pd.Series\n",
    "    average_slope: float\n",
    "    ylabel: str = \"Cost relative to\\n cost minimal case\"\n",
    "    xlabel: str = \"Land requirements relative\\nto cost minimal case\"\n",
    "\n",
    "\n",
    "def read_phase_ins(path_to_data):\n",
    "    data = (\n",
    "        xr\n",
    "        .open_dataset(path_to_data)\n",
    "        .mean(\"sample_id\")\n",
    "        .to_dataframe()\n",
    "        .set_index([\"util\", \"wind\", \"roof\", \"offshore\"])\n",
    "    )\n",
    "    rel_data = data / data.loc[data.cost.idxmin()]\n",
    "\n",
    "    return [\n",
    "        PlotData(\n",
    "            name=\"a - Offshore wind\",\n",
    "            data=rel_data,\n",
    "            optimal_path=optimal_path_series(data, \"offshore\"),\n",
    "            average_slope=average_slope(data, optimal_path_series(data, \"offshore\"))\n",
    "        ),\n",
    "        PlotData(\n",
    "            name=\"b - Utility-scale PV\",\n",
    "            data=rel_data,\n",
    "            optimal_path=optimal_path_series(data, \"util\"),\n",
    "            average_slope=average_slope(data, optimal_path_series(data, \"util\"))\n",
    "        ),\n",
    "        PlotData(\n",
    "            name=\"c - Rooftop PV\",\n",
    "            data=rel_data,\n",
    "            optimal_path=optimal_path_series(data, \"roof\"),\n",
    "            average_slope=average_slope(data, optimal_path_series(data, \"roof\"))\n",
    "        )\n",
    "    ]\n",
    "\n",
    "\n",
    "def slope(index1, index2, data):\n",
    "    cost_delta = data.loc[index1, \"cost\"] - data.loc[index2, \"cost\"]\n",
    "    land_use_delta = (data.loc[index1, \"land_use\"] - data.loc[index2, \"land_use\"]) * 1e6 # to m2\n",
    "    if abs(land_use_delta) > EPSILON:\n",
    "        return cost_delta / land_use_delta\n",
    "    else:\n",
    "        return None\n",
    "\n",
    "\n",
    "def optimal_path(data, tech):\n",
    "    assert tech in [\"util\", \"wind\", \"roof\", \"offshore\"]\n",
    "    current_index = data[\"cost\"].idxmin() # start at cost minimum\n",
    "    yield current_index, 0\n",
    "    while data.loc[[current_index]].index.get_level_values(tech)[0] < 100:\n",
    "        if tech == \"util\":\n",
    "            index = idx[current_index[0] + 10, :current_index[1], :current_index[2], :current_index[3]]\n",
    "        elif tech == \"wind\":\n",
    "            index = idx[:current_index[0], current_index[1] + 10, :current_index[2], :current_index[3]]\n",
    "        elif tech == \"roof\":\n",
    "            index = idx[:current_index[0], :current_index[1], :current_index[2] + 10, :current_index[3]]\n",
    "        elif tech == \"offshore\":\n",
    "            index = idx[:current_index[0], :current_index[1], :current_index[2], current_index[3] + 10]\n",
    "        slopes = (\n",
    "            data\n",
    "            .sort_index(level=['util', 'wind', 'roof', 'offshore'])\n",
    "            .loc[index, ]\n",
    "            .apply(lambda row: slope(current_index, row.name, data), axis=1)\n",
    "        )\n",
    "        slopes = slopes[slopes < 0] # don't follow slopes that lead to worse points\n",
    "        if len(slopes.index) == 0:\n",
    "            return\n",
    "        else:\n",
    "            optimal_index = slopes.abs().idxmin()\n",
    "            yield optimal_index, slopes.loc[optimal_index]\n",
    "            current_index = optimal_index\n",
    "\n",
    "\n",
    "def optimal_path_series(data, tech):\n",
    "    slopes = pd.Series({index: slope for index, slope in optimal_path(data, tech)})\n",
    "    slopes.index = slopes.index.set_names([\"util\", \"wind\", \"roof\", \"offshore\"])\n",
    "    return slopes\n",
    "\n",
    "\n",
    "def average_slope(data, optimal_path):\n",
    "    cost_optimal_index = data[\"cost\"].idxmin()\n",
    "    if len(optimal_path.index) > 0:\n",
    "        return slope(cost_optimal_index, optimal_path.index[-1], data)\n",
    "    else:\n",
    "        return None"
   ]
  },
  {
   "cell_type": "markdown",
   "metadata": {},
   "source": [
    "## Expected results"
   ]
  },
  {
   "cell_type": "code",
   "execution_count": 3,
   "metadata": {},
   "outputs": [],
   "source": [
    "xy = xr.open_dataset(\"../build/euler/output/national/land-use/xy.nc\")"
   ]
  },
  {
   "cell_type": "code",
   "execution_count": 4,
   "metadata": {},
   "outputs": [],
   "source": [
    "expected = xy.mean(\"sample_id\")"
   ]
  },
  {
   "cell_type": "code",
   "execution_count": 5,
   "metadata": {},
   "outputs": [],
   "source": [
    "cost_optimal_expected_scenario = expected.to_dataframe().cost.idxmin()"
   ]
  },
  {
   "cell_type": "code",
   "execution_count": 6,
   "metadata": {},
   "outputs": [
    {
     "name": "stdout",
     "output_type": "stream",
     "text": [
      "Expected land use of cost-optimal system design using expected cost:\n",
      "96700 km2 (2.0%)\n"
     ]
    }
   ],
   "source": [
    "total = expected.sel(scenario=cost_optimal_expected_scenario).land_use.item()\n",
    "relative = total / TOTAL_EUROPEAN_LAND_MASS_KM2 * 100\n",
    "print(f\"Expected land use of cost-optimal system design using expected cost:\")\n",
    "print(f\"{total:.0f} km2 ({relative:.1f}%)\")"
   ]
  },
  {
   "cell_type": "markdown",
   "metadata": {},
   "source": [
    "## Wind PV systems"
   ]
  },
  {
   "cell_type": "code",
   "execution_count": 7,
   "metadata": {},
   "outputs": [],
   "source": [
    "df = xy.where((xy.roof == 0) & (xy.offshore == 0) & (xy.wind == 50), drop=True).to_dataframe()\n",
    "df.land_use = df.land_use / TOTAL_EUROPEAN_LAND_MASS_KM2 * 100"
   ]
  },
  {
   "cell_type": "code",
   "execution_count": 8,
   "metadata": {},
   "outputs": [
    {
     "data": {
      "text/plain": [
       "count    99999.000000\n",
       "mean         1.965441\n",
       "std          0.506600\n",
       "min          1.069894\n",
       "25%          1.639552\n",
       "50%          1.862239\n",
       "75%          2.164230\n",
       "max         12.466542\n",
       "Name: land_use, dtype: float64"
      ]
     },
     "execution_count": 8,
     "metadata": {},
     "output_type": "execute_result"
    }
   ],
   "source": [
    "df.land_use.describe()"
   ]
  },
  {
   "cell_type": "markdown",
   "metadata": {},
   "source": [
    "## Land limits"
   ]
  },
  {
   "cell_type": "code",
   "execution_count": 9,
   "metadata": {},
   "outputs": [],
   "source": [
    "penalties = calculate_data(\"../build/euler/output/national/land-use/xy.nc\")"
   ]
  },
  {
   "cell_type": "code",
   "execution_count": 10,
   "metadata": {},
   "outputs": [
    {
     "name": "stdout",
     "output_type": "stream",
     "text": [
      "Limit of 0.5% using any tech requires penalities in 79% of the time.\n",
      "Limit of 1.0% using any tech requires penalities in 76% of the time.\n",
      "Limit of 1.5% using any tech requires penalities in 63% of the time.\n",
      "Limit of 2.0% using any tech requires penalities in 33% of the time.\n",
      "Limit of 3.0% using any tech requires penalities in 5% of the time.\n"
     ]
    }
   ],
   "source": [
    "for threshold in THRESHOLDS:\n",
    "    filtered_penalities = penalties.sel(threshold=threshold, tech=\"util\")\n",
    "    share_penalty = ((filtered_penalities > 0).sum() / filtered_penalities.count()).item() * 100\n",
    "    print(f\"Limit of {threshold * 100:.1f}% using any tech requires penalities in {share_penalty:.0f}% of the time.\")"
   ]
  },
  {
   "cell_type": "code",
   "execution_count": 11,
   "metadata": {},
   "outputs": [
    {
     "name": "stdout",
     "output_type": "stream",
     "text": [
      "Limit of 0.5% using roof requires an expected penality of 28%.\n",
      "Limit of 1.0% using roof requires an expected penality of 17%.\n",
      "Limit of 1.5% using roof requires an expected penality of 9%.\n",
      "Limit of 2.0% using roof requires an expected penality of 3%.\n",
      "Limit of 3.0% using roof requires an expected penality of 0%.\n",
      "\n",
      "Limit of 0.5% using util requires an expected penality of 21%.\n",
      "Limit of 1.0% using util requires an expected penality of 12%.\n",
      "Limit of 1.5% using util requires an expected penality of 5%.\n",
      "Limit of 2.0% using util requires an expected penality of 1%.\n",
      "Limit of 3.0% using util requires an expected penality of 0%.\n",
      "\n",
      "Limit of 0.5% using offshore requires an expected penality of 13%.\n",
      "Limit of 1.0% using offshore requires an expected penality of 8%.\n",
      "Limit of 1.5% using offshore requires an expected penality of 5%.\n",
      "Limit of 2.0% using offshore requires an expected penality of 2%.\n",
      "Limit of 3.0% using offshore requires an expected penality of 0%.\n",
      "\n"
     ]
    }
   ],
   "source": [
    "for tech in TECHS:\n",
    "    for threshold in THRESHOLDS:\n",
    "        filtered_penalities = penalties.sel(threshold=threshold, tech=tech)\n",
    "        penalty = filtered_penalities.mean().item() * 100\n",
    "        print(f\"Limit of {threshold * 100:.1f}% using {tech} requires an expected penality of {penalty:.0f}%.\")\n",
    "    print()"
   ]
  },
  {
   "cell_type": "markdown",
   "metadata": {},
   "source": [
    "## Cost-effective Phase-ins"
   ]
  },
  {
   "cell_type": "code",
   "execution_count": 12,
   "metadata": {},
   "outputs": [],
   "source": [
    "data = read_phase_ins(\"../build/euler/output/national/land-use/xy.nc\")"
   ]
  },
  {
   "cell_type": "code",
   "execution_count": 13,
   "metadata": {},
   "outputs": [],
   "source": [
    "import scipy\n",
    "\n",
    "def interpolate_cost(data, share1, share2, new_land_use):\n",
    "    new_cost = scipy.interpolate.interp1d(\n",
    "        [data.loc[share1, \"land_use\"], data.loc[share2, \"land_use\"]],\n",
    "        [data.loc[share1, \"cost\"], data.loc[share2, \"cost\"]]\n",
    "    )(new_land_use).item()\n",
    "    print(f\"Interpolated cost at land_use={new_land_use}: {new_cost:.2f}\")"
   ]
  },
  {
   "cell_type": "markdown",
   "metadata": {},
   "source": [
    "### Offshore"
   ]
  },
  {
   "cell_type": "code",
   "execution_count": 14,
   "metadata": {},
   "outputs": [
    {
     "data": {
      "text/plain": [
       "util  wind  roof  offshore\n",
       "50    50    0     0            0.000000\n",
       "      40    0     10          -0.198586\n",
       "      30    0     20          -0.231433\n",
       "      20    0     30          -0.264294\n",
       "      10    0     40          -0.292020\n",
       "      0     0     50          -0.314384\n",
       "40    0     0     60          -5.992023\n",
       "30    0     0     70         -28.504441\n",
       "dtype: float64"
      ]
     },
     "execution_count": 14,
     "metadata": {},
     "output_type": "execute_result"
    }
   ],
   "source": [
    "data[0].optimal_path"
   ]
  },
  {
   "cell_type": "code",
   "execution_count": 15,
   "metadata": {},
   "outputs": [
    {
     "name": "stdout",
     "output_type": "stream",
     "text": [
      "Interpolated cost at land_use=0.5: 1.05\n"
     ]
    }
   ],
   "source": [
    "interpolate_cost(data[0].data, (50, 20, 0, 30), (50, 30, 0, 20), new_land_use=0.5)"
   ]
  },
  {
   "cell_type": "code",
   "execution_count": 16,
   "metadata": {},
   "outputs": [
    {
     "data": {
      "text/plain": [
       "land_use    0.149673\n",
       "cost        1.096182\n",
       "Name: (50, 0, 0, 50), dtype: float64"
      ]
     },
     "execution_count": 16,
     "metadata": {},
     "output_type": "execute_result"
    }
   ],
   "source": [
    "data[0].data.loc[(50, 0, 0, 50)]"
   ]
  },
  {
   "cell_type": "markdown",
   "metadata": {},
   "source": [
    "### Utility-scale PV"
   ]
  },
  {
   "cell_type": "code",
   "execution_count": 17,
   "metadata": {},
   "outputs": [
    {
     "data": {
      "text/plain": [
       "util  wind  roof  offshore\n",
       "50    50    0     0           0.000000\n",
       "60    40    0     0          -0.153239\n",
       "70    30    0     0          -0.402116\n",
       "80    20    0     0          -0.559840\n",
       "90    10    0     0          -0.605407\n",
       "100   0     0     0          -1.113324\n",
       "dtype: float64"
      ]
     },
     "execution_count": 17,
     "metadata": {},
     "output_type": "execute_result"
    }
   ],
   "source": [
    "data[1].optimal_path"
   ]
  },
  {
   "cell_type": "code",
   "execution_count": 18,
   "metadata": {},
   "outputs": [
    {
     "name": "stdout",
     "output_type": "stream",
     "text": [
      "Interpolated cost at land_use=0.5: 1.10\n"
     ]
    }
   ],
   "source": [
    "interpolate_cost(data[0].data, (90, 10, 0, 0), (80, 20, 0, 0), new_land_use=0.5)"
   ]
  },
  {
   "cell_type": "code",
   "execution_count": 19,
   "metadata": {},
   "outputs": [
    {
     "data": {
      "text/plain": [
       "land_use    0.193638\n",
       "cost        1.225843\n",
       "Name: (100, 0, 0, 0), dtype: float64"
      ]
     },
     "execution_count": 19,
     "metadata": {},
     "output_type": "execute_result"
    }
   ],
   "source": [
    "data[1].data.loc[(100, 0, 0, 0)]"
   ]
  },
  {
   "cell_type": "markdown",
   "metadata": {},
   "source": [
    "## Rooftop-PV"
   ]
  },
  {
   "cell_type": "code",
   "execution_count": 20,
   "metadata": {},
   "outputs": [
    {
     "data": {
      "text/plain": [
       "util  wind  roof  offshore\n",
       "50    50    0     0           0.000000\n",
       "      40    10    0          -0.682708\n",
       "      30    20    0          -0.855521\n",
       "      20    30    0          -0.759081\n",
       "      10    40    0          -1.071837\n",
       "      0     50    0          -1.775962\n",
       "40    0     60    0          -4.756840\n",
       "30    0     70    0          -5.010399\n",
       "20    0     80    0          -5.051814\n",
       "10    0     90    0          -5.155228\n",
       "0     0     100   0          -5.649277\n",
       "dtype: float64"
      ]
     },
     "execution_count": 20,
     "metadata": {},
     "output_type": "execute_result"
    }
   ],
   "source": [
    "data[2].optimal_path"
   ]
  },
  {
   "cell_type": "code",
   "execution_count": 21,
   "metadata": {},
   "outputs": [
    {
     "name": "stdout",
     "output_type": "stream",
     "text": [
      "Interpolated cost at land_use=0.5: 1.17\n"
     ]
    }
   ],
   "source": [
    "interpolate_cost(data[0].data, (50, 20, 30, 0), (50, 30, 20, 0), new_land_use=0.5)"
   ]
  },
  {
   "cell_type": "code",
   "execution_count": 22,
   "metadata": {},
   "outputs": [
    {
     "data": {
      "text/plain": [
       "land_use    0.000000\n",
       "cost        1.623707\n",
       "Name: (0, 0, 100, 0), dtype: float64"
      ]
     },
     "execution_count": 22,
     "metadata": {},
     "output_type": "execute_result"
    }
   ],
   "source": [
    "data[1].data.loc[(0, 0, 100, 0)]"
   ]
  },
  {
   "cell_type": "markdown",
   "metadata": {},
   "source": [
    "## Balancing"
   ]
  },
  {
   "cell_type": "markdown",
   "metadata": {},
   "source": [
    "When considering 10^5^\\ Wh/m^2^ for battery storage capacity, a conservative 6,000\\ Wh/m^2^ for hydrogen storage capacity, and 10^4^\\ W/m^2^ for bioenergy capacity (see Methods), total land requirements of all three flexibility technologies are always below 1,800\\ km^2^ (0.04% of total European land)."
   ]
  },
  {
   "cell_type": "code",
   "execution_count": 23,
   "metadata": {},
   "outputs": [],
   "source": [
    "data = xr.open_dataset(\"../build/euler/output/national/aggregation.nc\").sum(\"locs\")"
   ]
  },
  {
   "cell_type": "code",
   "execution_count": 24,
   "metadata": {},
   "outputs": [],
   "source": [
    "max_battery = data.sel(techs=\"battery\").storage_cap.max().item()\n",
    "max_hydrogen = data.sel(techs=\"hydrogen\").storage_cap.max().item()\n",
    "max_bio = data.sel(techs=\"biofuel\").energy_cap.max().item()"
   ]
  },
  {
   "cell_type": "code",
   "execution_count": 25,
   "metadata": {},
   "outputs": [],
   "source": [
    "max_land_battery = max_battery / 1e5\n",
    "max_land_hydrogen = max_hydrogen / 6000\n",
    "max_land_bioenergy = max_bio / 1e4"
   ]
  },
  {
   "cell_type": "code",
   "execution_count": 26,
   "metadata": {},
   "outputs": [
    {
     "name": "stdout",
     "output_type": "stream",
     "text": [
      "Battery: 18 km2\n",
      "Hydrogen: 1719 km2\n",
      "Bioenergy: 24 km2\n",
      "Total: 1760 km2\n"
     ]
    }
   ],
   "source": [
    "print(f\"Battery: {max_land_battery:.0f} km2\")\n",
    "print(f\"Hydrogen: {max_land_hydrogen:.0f} km2\")\n",
    "print(f\"Bioenergy: {max_land_bioenergy:.0f} km2\")\n",
    "print(f\"Total: {max_land_battery + max_land_hydrogen + max_land_bioenergy:.0f} km2\")"
   ]
  },
  {
   "cell_type": "code",
   "execution_count": null,
   "metadata": {},
   "outputs": [],
   "source": []
  }
 ],
 "metadata": {
  "kernelspec": {
   "display_name": "Python 3",
   "language": "python",
   "name": "python3"
  },
  "language_info": {
   "codemirror_mode": {
    "name": "ipython",
    "version": 3
   },
   "file_extension": ".py",
   "mimetype": "text/x-python",
   "name": "python",
   "nbconvert_exporter": "python",
   "pygments_lexer": "ipython3",
   "version": "3.6.7"
  }
 },
 "nbformat": 4,
 "nbformat_minor": 2
}
