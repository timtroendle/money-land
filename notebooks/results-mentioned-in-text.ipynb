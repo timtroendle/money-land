{
 "cells": [
  {
   "cell_type": "markdown",
   "metadata": {},
   "source": [
    "# All detailed results\n",
    "\n",
    "This notebooks holds all detailled results that are mentioned in the text. Re-execute to update values."
   ]
  },
  {
   "cell_type": "markdown",
   "metadata": {},
   "source": [
    "## Code\n",
    "\n",
    "### Absolute thresholds"
   ]
  },
  {
   "cell_type": "code",
   "execution_count": 1,
   "metadata": {},
   "outputs": [],
   "source": [
    "import functools\n",
    "\n",
    "import numpy as np\n",
    "import xarray as xr\n",
    "\n",
    "TOTAL_EUROPEAN_LAND_MASS_KM2 = 4920000\n",
    "TOTAL_DEMAND_KWH = 3_180_000_000_000\n",
    "THRESHOLDS = [0.005, 0.01, 0.015, 0.02, 0.03]\n",
    "TECHS = [\"roof\", \"util\", \"offshore\"]\n",
    "ALL_TECHS = TECHS + [\"wind\"]\n",
    "\n",
    "\n",
    "def calculate_data(path_to_xy_data):\n",
    "    xy = xr.open_dataset(path_to_xy_data)\n",
    "    data = (\n",
    "        xr\n",
    "        .ones_like(xy.cost.sum(\"scenario\"))\n",
    "        .expand_dims(tech=TECHS, threshold=THRESHOLDS)\n",
    "    ) * np.nan\n",
    "\n",
    "    cost_optimal_data = xy.isel(scenario=xy.cost.argmin(\"scenario\"))\n",
    "\n",
    "    for tech in TECHS:\n",
    "        conditions = [\n",
    "            xy[other_tech] <= cost_optimal_data[other_tech]\n",
    "            for other_tech in ALL_TECHS\n",
    "            if other_tech != tech\n",
    "        ]\n",
    "        tech_mask = functools.reduce(lambda x, y: x & y, conditions)\n",
    "        for threshold in THRESHOLDS:\n",
    "            absolute_threshold = threshold * TOTAL_EUROPEAN_LAND_MASS_KM2\n",
    "            mask = tech_mask & (xy.land_use <= absolute_threshold)\n",
    "            cost = xy.where(mask).cost.min(\"scenario\")\n",
    "            data.loc[{\"tech\": tech, \"threshold\": threshold}] = (cost - cost_optimal_data.cost) / cost_optimal_data.cost\n",
    "    missing_values = data.isnull()\n",
    "    assert not missing_values.sel(tech=\"roof\").any()\n",
    "    assert not missing_values.sel(tech=\"util\").any()\n",
    "    assert missing_values.sel(tech=\"offshore\", threshold=0.01).sum() < 20 # in rare cases, 1% can not be done\n",
    "    assert missing_values.sel(tech=\"offshore\", threshold=0.005).sum() < 1000 # in 1% of cases, 0.05% can not be done\n",
    "    return data"
   ]
  },
  {
   "cell_type": "markdown",
   "metadata": {},
   "source": [
    "### Cost-effective phase-ins"
   ]
  },
  {
   "cell_type": "code",
   "execution_count": 2,
   "metadata": {},
   "outputs": [],
   "source": [
    "from dataclasses import dataclass\n",
    "import pandas as pd\n",
    "import scipy\n",
    "import xarray as xr\n",
    "import seaborn as sns\n",
    "import matplotlib.pyplot as plt\n",
    "\n",
    "EPSILON = 0.00001\n",
    "GREY = \"#7F7F7F\"\n",
    "BLUE = \"#4F6DB8\"\n",
    "BRIGHT_COLOR = sns.light_palette(BLUE, 3)[0]\n",
    "DARK_COLOR = BLUE\n",
    "PANEL_FONT_SIZE = 10\n",
    "PANEL_FONT_WEIGHT = \"bold\"\n",
    "\n",
    "idx = pd.IndexSlice\n",
    "\n",
    "\n",
    "@dataclass\n",
    "class PlotData:\n",
    "    name: str\n",
    "    data: pd.DataFrame\n",
    "    abs_data: pd.DataFrame\n",
    "    optimal_path: pd.Series\n",
    "    average_slope: float\n",
    "    ylabel: str = \"Cost relative to\\n cost minimal case\"\n",
    "    xlabel: str = \"Land requirements relative\\nto cost minimal case\"\n",
    "\n",
    "    def interpolate_cost(self, new_land_use):\n",
    "        cost_land_use = self.data.loc[self.optimal_path.index]\n",
    "        share1 = cost_land_use[cost_land_use.land_use < new_land_use].iloc[0].name\n",
    "        share2 = cost_land_use[cost_land_use.land_use > new_land_use].iloc[-1].name\n",
    "        new_cost = scipy.interpolate.interp1d(\n",
    "            [self.data.loc[share1, \"land_use\"], self.data.loc[share2, \"land_use\"]],\n",
    "            [self.data.loc[share1, \"cost\"], self.data.loc[share2, \"cost\"]]\n",
    "        )(new_land_use).item()\n",
    "        return new_cost\n",
    "\n",
    "    def average_slope_until(self, land_use):\n",
    "        ref = self.abs_data.loc[self.optimal_path.index[0]]\n",
    "\n",
    "        delta_land = ref.land_use - ref.land_use * land_use\n",
    "        delta_cost = ref.cost - ref.cost * self.interpolate_cost(0.5)\n",
    "        return delta_cost / delta_land / 1e6 # to m2\n",
    "\n",
    "\n",
    "def read_phase_ins(path_to_data):\n",
    "    data = (\n",
    "        xr\n",
    "        .open_dataset(path_to_data)\n",
    "        .mean(\"sample_id\")\n",
    "        .to_dataframe()\n",
    "        .set_index([\"util\", \"wind\", \"roof\", \"offshore\"])\n",
    "    )\n",
    "    rel_data = data / data.loc[data.cost.idxmin()]\n",
    "\n",
    "    return [\n",
    "        PlotData(\n",
    "            name=\"a - Offshore wind\",\n",
    "            data=rel_data,\n",
    "            abs_data=data,\n",
    "            optimal_path=optimal_path_series(data, \"offshore\"),\n",
    "            average_slope=average_slope(data, optimal_path_series(data, \"offshore\"))\n",
    "        ),\n",
    "        PlotData(\n",
    "            name=\"b - Utility-scale PV\",\n",
    "            data=rel_data,\n",
    "            abs_data=data,\n",
    "            optimal_path=optimal_path_series(data, \"util\"),\n",
    "            average_slope=average_slope(data, optimal_path_series(data, \"util\"))\n",
    "        ),\n",
    "        PlotData(\n",
    "            name=\"c - Rooftop PV\",\n",
    "            data=rel_data,\n",
    "            abs_data=data,\n",
    "            optimal_path=optimal_path_series(data, \"roof\"),\n",
    "            average_slope=average_slope(data, optimal_path_series(data, \"roof\"))\n",
    "        )\n",
    "    ]\n",
    "\n",
    "\n",
    "def slope(index1, index2, data):\n",
    "    cost_delta = data.loc[index1, \"cost\"] - data.loc[index2, \"cost\"]\n",
    "    land_use_delta = (data.loc[index1, \"land_use\"] - data.loc[index2, \"land_use\"]) * 1e6 # to m2\n",
    "    if abs(land_use_delta) > EPSILON:\n",
    "        return cost_delta / land_use_delta\n",
    "    else:\n",
    "        return None\n",
    "\n",
    "\n",
    "def optimal_path(data, tech):\n",
    "    assert tech in [\"util\", \"wind\", \"roof\", \"offshore\"]\n",
    "    current_index = data[\"cost\"].idxmin() # start at cost minimum\n",
    "    yield current_index, 0\n",
    "    while data.loc[[current_index]].index.get_level_values(tech)[0] < 100:\n",
    "        if tech == \"util\":\n",
    "            index = idx[current_index[0] + 10, :current_index[1], :current_index[2], :current_index[3]]\n",
    "        elif tech == \"wind\":\n",
    "            index = idx[:current_index[0], current_index[1] + 10, :current_index[2], :current_index[3]]\n",
    "        elif tech == \"roof\":\n",
    "            index = idx[:current_index[0], :current_index[1], :current_index[2] + 10, :current_index[3]]\n",
    "        elif tech == \"offshore\":\n",
    "            index = idx[:current_index[0], :current_index[1], :current_index[2], current_index[3] + 10]\n",
    "        slopes = (\n",
    "            data\n",
    "            .sort_index(level=['util', 'wind', 'roof', 'offshore'])\n",
    "            .loc[index, ]\n",
    "            .apply(lambda row: slope(current_index, row.name, data), axis=1)\n",
    "        )\n",
    "        slopes = slopes[slopes < 0] # don't follow slopes that lead to worse points\n",
    "        if len(slopes.index) == 0:\n",
    "            return\n",
    "        else:\n",
    "            optimal_index = slopes.abs().idxmin()\n",
    "            yield optimal_index, slopes.loc[optimal_index]\n",
    "            current_index = optimal_index\n",
    "\n",
    "\n",
    "def optimal_path_series(data, tech):\n",
    "    slopes = pd.Series({index: slope for index, slope in optimal_path(data, tech)})\n",
    "    slopes.index = slopes.index.set_names([\"util\", \"wind\", \"roof\", \"offshore\"])\n",
    "    return slopes\n",
    "\n",
    "\n",
    "def average_slope(data, optimal_path):\n",
    "    cost_optimal_index = data[\"cost\"].idxmin()\n",
    "    if len(optimal_path.index) > 0:\n",
    "        return slope(cost_optimal_index, optimal_path.index[-1], data)\n",
    "    else:\n",
    "        return None"
   ]
  },
  {
   "cell_type": "markdown",
   "metadata": {},
   "source": [
    "## Expected results"
   ]
  },
  {
   "cell_type": "code",
   "execution_count": 3,
   "metadata": {},
   "outputs": [],
   "source": [
    "xy = xr.open_dataset(\"../build/euler/output/national/land-use/xy.nc\")"
   ]
  },
  {
   "cell_type": "code",
   "execution_count": 4,
   "metadata": {},
   "outputs": [],
   "source": [
    "expected = xy.mean(\"sample_id\")"
   ]
  },
  {
   "cell_type": "code",
   "execution_count": 5,
   "metadata": {},
   "outputs": [],
   "source": [
    "cost_optimal_expected_scenario = expected.to_dataframe().cost.idxmin()"
   ]
  },
  {
   "cell_type": "code",
   "execution_count": 6,
   "metadata": {},
   "outputs": [
    {
     "name": "stdout",
     "output_type": "stream",
     "text": [
      "Expected cost minimum:\n",
      "0.07\n",
      "Expected land use of cost-optimal system design using expected cost:\n",
      "96567 km2 (2.0%)\n",
      "Cost-optimal scenario:\n",
      "roof-0-percent,util-50-percent,wind-50-percent,offshore-0-percent\n"
     ]
    }
   ],
   "source": [
    "total = expected.sel(scenario=cost_optimal_expected_scenario).land_use.item()\n",
    "relative = total / TOTAL_EUROPEAN_LAND_MASS_KM2 * 100\n",
    "print(f\"Expected cost minimum:\")\n",
    "print(f\"{expected.cost.min().item() / TOTAL_DEMAND_KWH:.2f}\")\n",
    "print(f\"Expected land use of cost-optimal system design using expected cost:\")\n",
    "print(f\"{total:.0f} km2 ({relative:.1f}%)\")\n",
    "print(f\"Cost-optimal scenario:\")\n",
    "print(cost_optimal_expected_scenario)"
   ]
  },
  {
   "cell_type": "markdown",
   "metadata": {},
   "source": [
    "## Wind PV systems"
   ]
  },
  {
   "cell_type": "code",
   "execution_count": 7,
   "metadata": {},
   "outputs": [],
   "source": [
    "df = xy.where((xy.roof == 0) & (xy.offshore == 0) & (xy.wind == 50), drop=True).to_dataframe()\n",
    "df.land_use = df.land_use / TOTAL_EUROPEAN_LAND_MASS_KM2 * 100"
   ]
  },
  {
   "cell_type": "code",
   "execution_count": 8,
   "metadata": {},
   "outputs": [
    {
     "data": {
      "text/plain": [
       "count    99999.000000\n",
       "mean         1.962749\n",
       "std          0.505907\n",
       "min          1.068428\n",
       "25%          1.637307\n",
       "50%          1.859689\n",
       "75%          2.161266\n",
       "max         12.449469\n",
       "Name: land_use, dtype: float64"
      ]
     },
     "execution_count": 8,
     "metadata": {},
     "output_type": "execute_result"
    }
   ],
   "source": [
    "df.land_use.describe()"
   ]
  },
  {
   "cell_type": "markdown",
   "metadata": {},
   "source": [
    "## Land limits"
   ]
  },
  {
   "cell_type": "code",
   "execution_count": 9,
   "metadata": {},
   "outputs": [],
   "source": [
    "penalties = calculate_data(\"../build/euler/output/national/land-use/xy.nc\")"
   ]
  },
  {
   "cell_type": "code",
   "execution_count": 10,
   "metadata": {},
   "outputs": [
    {
     "name": "stdout",
     "output_type": "stream",
     "text": [
      "Limit of 0.5% using any tech requires penalities in 79% of the time.\n",
      "Limit of 1.0% using any tech requires penalities in 75% of the time.\n",
      "Limit of 1.5% using any tech requires penalities in 62% of the time.\n",
      "Limit of 2.0% using any tech requires penalities in 33% of the time.\n",
      "Limit of 3.0% using any tech requires penalities in 5% of the time.\n"
     ]
    }
   ],
   "source": [
    "for threshold in THRESHOLDS:\n",
    "    filtered_penalities = penalties.sel(threshold=threshold, tech=\"util\")\n",
    "    share_penalty = ((filtered_penalities > 0).sum() / filtered_penalities.count()).item() * 100\n",
    "    print(f\"Limit of {threshold * 100:.1f}% using any tech requires penalities in {share_penalty:.0f}% of the time.\")"
   ]
  },
  {
   "cell_type": "code",
   "execution_count": 11,
   "metadata": {},
   "outputs": [
    {
     "name": "stdout",
     "output_type": "stream",
     "text": [
      "Limit of 0.5% using roof requires an expected penality of 28%.\n",
      "Limit of 1.0% using roof requires an expected penality of 17%.\n",
      "Limit of 1.5% using roof requires an expected penality of 9%.\n",
      "Limit of 2.0% using roof requires an expected penality of 3%.\n",
      "Limit of 3.0% using roof requires an expected penality of 0%.\n",
      "\n",
      "Limit of 0.5% using util requires an expected penality of 20%.\n",
      "Limit of 1.0% using util requires an expected penality of 11%.\n",
      "Limit of 1.5% using util requires an expected penality of 5%.\n",
      "Limit of 2.0% using util requires an expected penality of 1%.\n",
      "Limit of 3.0% using util requires an expected penality of 0%.\n",
      "\n",
      "Limit of 0.5% using offshore requires an expected penality of 13%.\n",
      "Limit of 1.0% using offshore requires an expected penality of 8%.\n",
      "Limit of 1.5% using offshore requires an expected penality of 5%.\n",
      "Limit of 2.0% using offshore requires an expected penality of 2%.\n",
      "Limit of 3.0% using offshore requires an expected penality of 0%.\n",
      "\n"
     ]
    }
   ],
   "source": [
    "for tech in TECHS:\n",
    "    for threshold in THRESHOLDS:\n",
    "        filtered_penalities = penalties.sel(threshold=threshold, tech=tech)\n",
    "        penalty = filtered_penalities.mean().item() * 100\n",
    "        print(f\"Limit of {threshold * 100:.1f}% using {tech} requires an expected penality of {penalty:.0f}%.\")\n",
    "    print()"
   ]
  },
  {
   "cell_type": "markdown",
   "metadata": {},
   "source": [
    "## Cost-effective Phase-ins"
   ]
  },
  {
   "cell_type": "code",
   "execution_count": 12,
   "metadata": {},
   "outputs": [],
   "source": [
    "data = read_phase_ins(\"../build/euler/output/national/land-use/xy.nc\")"
   ]
  },
  {
   "cell_type": "markdown",
   "metadata": {},
   "source": [
    "### Offshore"
   ]
  },
  {
   "cell_type": "code",
   "execution_count": 13,
   "metadata": {},
   "outputs": [
    {
     "data": {
      "text/plain": [
       "util  wind  roof  offshore\n",
       "50    50    0     0           0.000000\n",
       "      40    0     10         -0.191463\n",
       "      30    0     20         -0.228296\n",
       "      20    0     30         -0.267878\n",
       "      10    0     40         -0.291187\n",
       "      0     0     50         -0.313105\n",
       "40    0     0     60         -5.796039\n",
       "dtype: float64"
      ]
     },
     "execution_count": 13,
     "metadata": {},
     "output_type": "execute_result"
    }
   ],
   "source": [
    "data[0].optimal_path"
   ]
  },
  {
   "cell_type": "code",
   "execution_count": 14,
   "metadata": {},
   "outputs": [
    {
     "data": {
      "text/plain": [
       "1.0491109869940034"
      ]
     },
     "execution_count": 14,
     "metadata": {},
     "output_type": "execute_result"
    }
   ],
   "source": [
    "data[0].interpolate_cost(new_land_use=0.5)"
   ]
  },
  {
   "cell_type": "code",
   "execution_count": 15,
   "metadata": {},
   "outputs": [
    {
     "data": {
      "text/plain": [
       "land_use    0.148639\n",
       "cost        1.095318\n",
       "Name: (50, 0, 0, 50), dtype: float64"
      ]
     },
     "execution_count": 15,
     "metadata": {},
     "output_type": "execute_result"
    }
   ],
   "source": [
    "data[0].data.loc[(50, 0, 0, 50)]"
   ]
  },
  {
   "cell_type": "markdown",
   "metadata": {},
   "source": [
    "### Utility-scale PV"
   ]
  },
  {
   "cell_type": "code",
   "execution_count": 16,
   "metadata": {},
   "outputs": [
    {
     "data": {
      "text/plain": [
       "util  wind  roof  offshore\n",
       "50    50    0     0           0.000000\n",
       "60    40    0     0          -0.130640\n",
       "70    30    0     0          -0.386286\n",
       "80    20    0     0          -0.541008\n",
       "90    10    0     0          -0.618010\n",
       "100   0     0     0          -1.079107\n",
       "dtype: float64"
      ]
     },
     "execution_count": 16,
     "metadata": {},
     "output_type": "execute_result"
    }
   ],
   "source": [
    "data[1].optimal_path"
   ]
  },
  {
   "cell_type": "code",
   "execution_count": 17,
   "metadata": {},
   "outputs": [
    {
     "data": {
      "text/plain": [
       "1.0921238663247899"
      ]
     },
     "execution_count": 17,
     "metadata": {},
     "output_type": "execute_result"
    }
   ],
   "source": [
    "data[1].interpolate_cost(new_land_use=0.5)"
   ]
  },
  {
   "cell_type": "code",
   "execution_count": 18,
   "metadata": {},
   "outputs": [
    {
     "data": {
      "text/plain": [
       "land_use    0.188285\n",
       "cost        1.219519\n",
       "Name: (100, 0, 0, 0), dtype: float64"
      ]
     },
     "execution_count": 18,
     "metadata": {},
     "output_type": "execute_result"
    }
   ],
   "source": [
    "data[1].data.loc[(100, 0, 0, 0)]"
   ]
  },
  {
   "cell_type": "markdown",
   "metadata": {},
   "source": [
    "## Rooftop-PV"
   ]
  },
  {
   "cell_type": "code",
   "execution_count": 19,
   "metadata": {},
   "outputs": [
    {
     "data": {
      "text/plain": [
       "util  wind  roof  offshore\n",
       "50    50    0     0           0.000000\n",
       "      40    10    0          -0.638626\n",
       "      30    20    0          -0.856017\n",
       "      20    30    0          -0.748541\n",
       "      10    40    0          -1.049796\n",
       "      0     50    0          -1.734871\n",
       "40    0     60    0          -4.785881\n",
       "30    0     70    0          -5.083658\n",
       "20    0     80    0          -5.125635\n",
       "10    0     90    0          -5.259149\n",
       "0     0     100   0          -5.725997\n",
       "dtype: float64"
      ]
     },
     "execution_count": 19,
     "metadata": {},
     "output_type": "execute_result"
    }
   ],
   "source": [
    "data[2].optimal_path"
   ]
  },
  {
   "cell_type": "code",
   "execution_count": 20,
   "metadata": {},
   "outputs": [
    {
     "data": {
      "text/plain": [
       "1.1677132888111958"
      ]
     },
     "execution_count": 20,
     "metadata": {},
     "output_type": "execute_result"
    }
   ],
   "source": [
    "data[2].interpolate_cost(new_land_use=0.5)"
   ]
  },
  {
   "cell_type": "code",
   "execution_count": 21,
   "metadata": {},
   "outputs": [
    {
     "data": {
      "text/plain": [
       "land_use    0.000000\n",
       "cost        1.613362\n",
       "Name: (0, 0, 100, 0), dtype: float64"
      ]
     },
     "execution_count": 21,
     "metadata": {},
     "output_type": "execute_result"
    }
   ],
   "source": [
    "data[1].data.loc[(0, 0, 100, 0)]"
   ]
  },
  {
   "cell_type": "markdown",
   "metadata": {},
   "source": [
    "## Balancing"
   ]
  },
  {
   "cell_type": "markdown",
   "metadata": {},
   "source": [
    "When considering 10^5^\\ Wh/m^2^ for battery storage capacity, a conservative 6,000\\ Wh/m^2^ for hydrogen storage capacity, and 10^4^\\ W/m^2^ for bioenergy capacity (see Methods), total land requirements of all three flexibility technologies are always below 1,800\\ km^2^ (0.04% of total European land)."
   ]
  },
  {
   "cell_type": "code",
   "execution_count": 22,
   "metadata": {},
   "outputs": [],
   "source": [
    "data = xr.open_dataset(\"../build/euler/output/national/aggregation.nc\").sum(\"locs\")"
   ]
  },
  {
   "cell_type": "code",
   "execution_count": 23,
   "metadata": {},
   "outputs": [],
   "source": [
    "max_battery = data.sel(techs=\"battery\").storage_cap.max().item()\n",
    "max_hydrogen = data.sel(techs=\"hydrogen\").storage_cap.max().item()\n",
    "max_bio = data.sel(techs=\"biofuel\").energy_cap.max().item()"
   ]
  },
  {
   "cell_type": "code",
   "execution_count": 24,
   "metadata": {},
   "outputs": [],
   "source": [
    "max_land_battery = max_battery / 1e5\n",
    "max_land_hydrogen = max_hydrogen / 6000\n",
    "max_land_bioenergy = max_bio / 1e4"
   ]
  },
  {
   "cell_type": "code",
   "execution_count": 25,
   "metadata": {},
   "outputs": [
    {
     "name": "stdout",
     "output_type": "stream",
     "text": [
      "Battery: 17 km2\n",
      "Hydrogen: 1685 km2\n",
      "Bioenergy: 23 km2\n",
      "Total: 1725 km2\n"
     ]
    }
   ],
   "source": [
    "print(f\"Battery: {max_land_battery:.0f} km2\")\n",
    "print(f\"Hydrogen: {max_land_hydrogen:.0f} km2\")\n",
    "print(f\"Bioenergy: {max_land_bioenergy:.0f} km2\")\n",
    "print(f\"Total: {max_land_battery + max_land_hydrogen + max_land_bioenergy:.0f} km2\")"
   ]
  },
  {
   "cell_type": "markdown",
   "metadata": {},
   "source": [
    "## Compare with other studies"
   ]
  },
  {
   "cell_type": "code",
   "execution_count": 26,
   "metadata": {},
   "outputs": [],
   "source": [
    "my_results = xr.open_dataset(\"../build/euler/output/national/land-use/xy.nc\")\n",
    "system_designs = xr.open_dataset(\"../build/euler/output/national/aggregation.nc\")"
   ]
  },
  {
   "cell_type": "code",
   "execution_count": 27,
   "metadata": {},
   "outputs": [],
   "source": [
    "def overview(technologies, scenario):\n",
    "    land_use = (\n",
    "        my_results\n",
    "        .sel(scenario=scenario)\n",
    "        .land_use\n",
    "    ) / TOTAL_EUROPEAN_LAND_MASS_KM2\n",
    "    cap = (\n",
    "        system_designs\n",
    "        .sel(scenario=scenario)\n",
    "        .sel(techs=technologies)\n",
    "        .energy_cap\n",
    "        .sum([\"locs\", \"techs\"])\n",
    "        .item()\n",
    "    ) / 1e3\n",
    "    gen = (\n",
    "        system_designs\n",
    "        .sel(scenario=scenario)\n",
    "        .sel(techs=technologies)\n",
    "        .carrier_prod\n",
    "        .sum([\"locs\", \"techs\"])\n",
    "        .item()\n",
    "    )\n",
    "    gen_bio = (\n",
    "        system_designs\n",
    "        .sel(scenario=scenario)\n",
    "        .sel(techs=[\"biofuel\"])\n",
    "        .carrier_prod\n",
    "        .sum([\"locs\", \"techs\"])\n",
    "        .item()\n",
    "    ) * 1e3 / TOTAL_DEMAND_KWH\n",
    "    gen_hydro = (\n",
    "        system_designs\n",
    "        .sel(scenario=scenario)\n",
    "        .sel(techs=[\"hydro_run_of_river\", \"hydro_reservoir\"])\n",
    "        .carrier_prod\n",
    "        .sum([\"locs\", \"techs\"])\n",
    "        .item()\n",
    "    ) * 1e3 / TOTAL_DEMAND_KWH\n",
    "    \n",
    "    print(f\"100% {technologies} requires {land_use.mean().item() * 100:.2f}% land on average\")\n",
    "    print(f\"100% {technologies} requires {land_use.max().item() * 100:.2f}% land max\")\n",
    "    print(f\"100% {technologies} requires {cap:.0f} GW installed\")\n",
    "    print(f\"100% {technologies} serves {gen / 1e6:.0f} TWh ({gen * 1e3 / TOTAL_DEMAND_KWH * 100:.0f}% of demand)\")\n",
    "    print(f\"Bioenergy serves {gen_bio * 100:.0f}% of demand\")\n",
    "    print(f\"Hydroelectricity serves {gen_hydro * 100:.0f}% of demand\")"
   ]
  },
  {
   "cell_type": "code",
   "execution_count": 28,
   "metadata": {},
   "outputs": [
    {
     "name": "stdout",
     "output_type": "stream",
     "text": [
      "100% ['open_field_pv'] requires 0.37% land on average\n",
      "100% ['open_field_pv'] requires 0.46% land max\n",
      "100% ['open_field_pv'] requires 1602 GW installed\n",
      "100% ['open_field_pv'] serves 1793 TWh (56% of demand)\n",
      "Bioenergy serves 31% of demand\n",
      "Hydroelectricity serves 17% of demand\n"
     ]
    }
   ],
   "source": [
    "overview([\"open_field_pv\"], scenario=\"roof-0-percent,util-100-percent,wind-0-percent,offshore-0-percent\")"
   ]
  },
  {
   "cell_type": "code",
   "execution_count": 29,
   "metadata": {},
   "outputs": [
    {
     "name": "stdout",
     "output_type": "stream",
     "text": [
      "100% ['roof_mounted_pv_n', 'roof_mounted_pv_s_flat', 'roof_mounted_pv_e_w'] requires 0.00% land on average\n",
      "100% ['roof_mounted_pv_n', 'roof_mounted_pv_s_flat', 'roof_mounted_pv_e_w'] requires 0.00% land max\n",
      "100% ['roof_mounted_pv_n', 'roof_mounted_pv_s_flat', 'roof_mounted_pv_e_w'] requires 1553 GW installed\n",
      "100% ['roof_mounted_pv_n', 'roof_mounted_pv_s_flat', 'roof_mounted_pv_e_w'] serves 1749 TWh (55% of demand)\n",
      "Bioenergy serves 32% of demand\n",
      "Hydroelectricity serves 17% of demand\n"
     ]
    }
   ],
   "source": [
    "roof_techs = [\"roof_mounted_pv_n\", \"roof_mounted_pv_s_flat\", \"roof_mounted_pv_e_w\"]\n",
    "overview(roof_techs, scenario=\"roof-100-percent,util-0-percent,wind-0-percent,offshore-0-percent\")"
   ]
  },
  {
   "cell_type": "code",
   "execution_count": 30,
   "metadata": {},
   "outputs": [
    {
     "name": "stdout",
     "output_type": "stream",
     "text": [
      "100% ['wind_offshore'] requires 0.29% land on average\n",
      "100% ['wind_offshore'] requires 2.01% land max\n",
      "100% ['wind_offshore'] requires 626 GW installed\n",
      "100% ['wind_offshore'] serves 2375 TWh (75% of demand)\n",
      "Bioenergy serves 4% of demand\n",
      "Hydroelectricity serves 17% of demand\n"
     ]
    }
   ],
   "source": [
    "overview([\"wind_offshore\"], scenario=\"roof-0-percent,util-0-percent,wind-0-percent,offshore-100-percent\")"
   ]
  },
  {
   "cell_type": "code",
   "execution_count": null,
   "metadata": {},
   "outputs": [],
   "source": []
  }
 ],
 "metadata": {
  "kernelspec": {
   "display_name": "Python 3",
   "language": "python",
   "name": "python3"
  },
  "language_info": {
   "codemirror_mode": {
    "name": "ipython",
    "version": 3
   },
   "file_extension": ".py",
   "mimetype": "text/x-python",
   "name": "python",
   "nbconvert_exporter": "python",
   "pygments_lexer": "ipython3",
   "version": "3.6.7"
  }
 },
 "nbformat": 4,
 "nbformat_minor": 2
}
