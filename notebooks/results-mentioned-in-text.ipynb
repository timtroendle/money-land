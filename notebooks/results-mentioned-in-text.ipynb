{
 "cells": [
  {
   "cell_type": "markdown",
   "metadata": {},
   "source": [
    "# All detailed results\n",
    "\n",
    "This notebooks holds all detailled results that are mentioned in the text. Re-execute to update values."
   ]
  },
  {
   "cell_type": "code",
   "execution_count": 1,
   "metadata": {},
   "outputs": [],
   "source": [
    "import functools\n",
    "\n",
    "import numpy as np\n",
    "import xarray as xr\n",
    "\n",
    "TOTAL_EUROPEAN_LAND_MASS_KM2 = 4920000\n",
    "THRESHOLDS = [0.005, 0.01, 0.015, 0.02, 0.03]\n",
    "TECHS = [\"roof\", \"util\", \"offshore\"]\n",
    "ALL_TECHS = TECHS + [\"wind\"]\n",
    "\n",
    "\n",
    "def calculate_data(path_to_xy_data):\n",
    "    xy = xr.open_dataset(path_to_xy_data)\n",
    "    data = (\n",
    "        xr\n",
    "        .ones_like(xy.cost.sum(\"scenario\"))\n",
    "        .expand_dims(tech=TECHS, threshold=THRESHOLDS)\n",
    "    ) * np.nan\n",
    "\n",
    "    cost_optimal_data = xy.isel(scenario=xy.cost.argmin(\"scenario\"))\n",
    "\n",
    "    for tech in TECHS:\n",
    "        conditions = [\n",
    "            xy[other_tech] <= cost_optimal_data[other_tech]\n",
    "            for other_tech in ALL_TECHS\n",
    "            if other_tech != tech\n",
    "        ]\n",
    "        tech_mask = functools.reduce(lambda x, y: x & y, conditions)\n",
    "        for threshold in THRESHOLDS:\n",
    "            absolute_threshold = threshold * TOTAL_EUROPEAN_LAND_MASS_KM2\n",
    "            mask = tech_mask & (xy.land_use <= absolute_threshold)\n",
    "            index_of_new_cost_optimal_scenarios = xy.where(mask).cost.argmin(\"scenario\")\n",
    "            cost = xy.isel(scenario=index_of_new_cost_optimal_scenarios).cost\n",
    "            data.loc[{\"tech\": tech, \"threshold\": threshold}] = (cost - cost_optimal_data.cost) / cost_optimal_data.cost\n",
    "    return data"
   ]
  },
  {
   "cell_type": "markdown",
   "metadata": {},
   "source": [
    "## Expected results"
   ]
  },
  {
   "cell_type": "code",
   "execution_count": 2,
   "metadata": {},
   "outputs": [],
   "source": [
    "xy = xr.open_dataset(\"../build/euler/output/national/land-use/xy.nc\")"
   ]
  },
  {
   "cell_type": "code",
   "execution_count": 3,
   "metadata": {},
   "outputs": [],
   "source": [
    "expected = xy.mean(\"sample_id\")"
   ]
  },
  {
   "cell_type": "code",
   "execution_count": 4,
   "metadata": {},
   "outputs": [],
   "source": [
    "cost_optimal_expected_scenario = expected.to_dataframe().cost.idxmin()"
   ]
  },
  {
   "cell_type": "code",
   "execution_count": 5,
   "metadata": {},
   "outputs": [
    {
     "name": "stdout",
     "output_type": "stream",
     "text": [
      "Expected land use of cost-optimal system design using expected cost:\n",
      "91615 km2 (1.9%)\n"
     ]
    }
   ],
   "source": [
    "total = expected.sel(scenario=cost_optimal_expected_scenario).land_use.item()\n",
    "relative = total / TOTAL_EUROPEAN_LAND_MASS_KM2 * 100\n",
    "print(f\"Expected land use of cost-optimal system design using expected cost:\")\n",
    "print(f\"{total:.0f} km2 ({relative:.1f}%)\")"
   ]
  },
  {
   "cell_type": "markdown",
   "metadata": {},
   "source": [
    "## Land limits"
   ]
  },
  {
   "cell_type": "code",
   "execution_count": 6,
   "metadata": {},
   "outputs": [],
   "source": [
    "penalties = calculate_data(\"../build/euler/output/national/land-use/xy.nc\")"
   ]
  },
  {
   "cell_type": "code",
   "execution_count": 7,
   "metadata": {},
   "outputs": [
    {
     "name": "stdout",
     "output_type": "stream",
     "text": [
      "Limit of 0.5% using any tech requires penalities in 79% of the time.\n",
      "Limit of 1.0% using any tech requires penalities in 74% of the time.\n",
      "Limit of 1.5% using any tech requires penalities in 59% of the time.\n",
      "Limit of 2.0% using any tech requires penalities in 31% of the time.\n",
      "Limit of 3.0% using any tech requires penalities in 2% of the time.\n"
     ]
    }
   ],
   "source": [
    "for threshold in THRESHOLDS:\n",
    "    filtered_penalities = penalties.sel(threshold=threshold, tech=\"util\")\n",
    "    share_penalty = ((filtered_penalities > 0).sum() / filtered_penalities.count()).item() * 100\n",
    "    print(f\"Limit of {threshold * 100:.1f}% using any tech requires penalities in {share_penalty:.0f}% of the time.\")"
   ]
  },
  {
   "cell_type": "code",
   "execution_count": null,
   "metadata": {},
   "outputs": [],
   "source": []
  }
 ],
 "metadata": {
  "kernelspec": {
   "display_name": "Python 3",
   "language": "python",
   "name": "python3"
  },
  "language_info": {
   "codemirror_mode": {
    "name": "ipython",
    "version": 3
   },
   "file_extension": ".py",
   "mimetype": "text/x-python",
   "name": "python",
   "nbconvert_exporter": "python",
   "pygments_lexer": "ipython3",
   "version": "3.6.7"
  }
 },
 "nbformat": 4,
 "nbformat_minor": 2
}
